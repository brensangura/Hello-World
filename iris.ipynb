{
 "cells": [
  {
   "cell_type": "code",
   "execution_count": null,
   "id": "f3f5dc2c",
   "metadata": {},
   "outputs": [],
   "source": [
    "# Import necessary libraries\n",
    "import pandas as pd\n",
    "from sklearn.model_selection import train_test_split\n",
    "from sklearn.tree import DecisionTreeClassifier\n",
    "from sklearn.metrics import accuracy_score, precision_score, recall_score, classification_report\n",
    "from sklearn.preprocessing import LabelEncoder\n",
    "\n",
    "# Function to load and preprocess the dataset\n",
    "def load_and_preprocess_data(file_path):\n",
    "    df = pd.read_csv(file_path)\n",
    "    df = df.drop('Id', axis=1)  # Drop unnecessary column\n",
    "    label_encoder = LabelEncoder()\n",
    "    df['Species'] = label_encoder.fit_transform(df['Species'])\n",
    "    return df, label_encoder\n",
    "\n",
    "# Function to split the dataset\n",
    "def split_data(df):\n",
    "    X = df.drop('Species', axis=1)\n",
    "    y = df['Species']\n",
    "    return train_test_split(X, y, test_size=0.2, random_state=42)\n",
    "\n",
    "# Function to train the Decision Tree model\n",
    "def train_model(X_train, y_train):\n",
    "    model = DecisionTreeClassifier(random_state=42)\n",
    "    model.fit(X_train, y_train)\n",
    "    return model\n",
    "\n",
    "# Function to evaluate the model\n",
    "def evaluate_model(model, X_test, y_test, label_encoder):\n",
    "    y_pred = model.predict(X_test)\n",
    "    accuracy = accuracy_score(y_test, y_pred)\n",
    "    precision = precision_score(y_test, y_pred, average='weighted')\n",
    "    recall = recall_score(y_test, y_pred, average='weighted')\n",
    "    report = classification_report(y_test, y_pred, target_names=label_encoder.classes_)\n",
    "    return accuracy, precision, recall, report\n",
    "\n",
    "# Main execution\n",
    "file_path = 'Iris.csv'\n",
    "iris_df, label_encoder = load_and_preprocess_data(file_path)\n",
    "X_train, X_test, y_train, y_test = split_data(iris_df)\n",
    "model = train_model(X_train, y_train)\n",
    "accuracy, precision, recall, report = evaluate_model(model, X_test, y_test, label_encoder)\n",
    "\n",
    "# Display results\n",
    "print(f\"Accuracy: {accuracy:.4f}\")\n",
    "print(f\"Precision: {precision:.4f}\")\n",
    "print(f\"Recall: {recall:.4f}\")\n",
    "print(\"\\nClassification Report:\")\n",
    "print(report)"
   ]
  },
  {
   "cell_type": "code",
   "execution_count": null,
   "id": "19ef1014",
   "metadata": {
    "vscode": {
     "languageId": "plaintext"
    }
   },
   "outputs": [],
   "source": []
  }
 ],
 "metadata": {
  "language_info": {
   "name": "python"
  }
 },
 "nbformat": 4,
 "nbformat_minor": 5
}
